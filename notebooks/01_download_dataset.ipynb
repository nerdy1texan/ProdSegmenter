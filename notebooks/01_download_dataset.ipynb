{
  "cells": [
    {
      "cell_type": "raw",
      "metadata": {
        "vscode": {
          "languageId": "raw"
        }
      },
      "source": [
        "# Data Download and Setup\n",
        "\n",
        "This notebook handles downloading grocery shelf datasets and setting up the data directory structure.\n",
        "\n",
        "## Objectives\n",
        "1. Download public grocery shelf datasets\n",
        "2. Set up Azure Blob Storage connections  \n",
        "3. Organize data into proper directory structure\n",
        "4. Validate data quality and formats\n",
        "\n",
        "## Setup\n"
      ]
    },
    {
      "cell_type": "code",
      "execution_count": null,
      "metadata": {},
      "outputs": [],
      "source": [
        "import os\n",
        "import sys\n",
        "import yaml\n",
        "from pathlib import Path\n",
        "import requests\n",
        "import zipfile\n",
        "from tqdm import tqdm\n",
        "\n",
        "# Add project root to path\n",
        "project_root = Path(\"..\").resolve()\n",
        "sys.path.append(str(project_root))\n",
        "\n",
        "# Load configuration\n",
        "with open(project_root / \"prodsegmenter_config.yaml\") as f:\n",
        "    config = yaml.safe_load(f)\n",
        "\n",
        "print(\"✅ Environment setup complete\")\n",
        "print(f\"Project root: {project_root}\")\n",
        "print(f\"Data paths: {config['data']['paths']}\")\n"
      ]
    }
  ],
  "metadata": {
    "language_info": {
      "name": "python"
    }
  },
  "nbformat": 4,
  "nbformat_minor": 2
}
