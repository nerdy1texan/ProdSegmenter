{
  "cells": [
    {
      "cell_type": "raw",
      "metadata": {
        "vscode": {
          "languageId": "raw"
        }
      },
      "source": [
        "# Data Preprocessing and Preparation\n",
        "\n",
        "Prepare processed data for training including frame extraction, resizing, and dataset splits.\n",
        "\n",
        "## Objectives\n",
        "1. Extract frames from videos at target FPS\n",
        "2. Resize and normalize images\n",
        "3. Create train/validation/test splits  \n",
        "4. Generate data augmentation examples\n",
        "5. Create dataset manifests and metadata\n"
      ]
    }
  ],
  "metadata": {
    "language_info": {
      "name": "python"
    }
  },
  "nbformat": 4,
  "nbformat_minor": 2
}
